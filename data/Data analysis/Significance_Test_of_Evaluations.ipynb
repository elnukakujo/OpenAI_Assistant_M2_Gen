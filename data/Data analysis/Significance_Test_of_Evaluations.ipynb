{
  "nbformat": 4,
  "nbformat_minor": 0,
  "metadata": {
    "colab": {
      "provenance": []
    },
    "kernelspec": {
      "name": "python3",
      "display_name": "Python 3"
    },
    "language_info": {
      "name": "python"
    }
  },
  "cells": [
    {
      "cell_type": "code",
      "execution_count": null,
      "metadata": {
        "id": "80DTZ3NgQhJH"
      },
      "outputs": [],
      "source": [
        "import pandas as pd\n",
        "from scipy import stats\n",
        "import numpy as np\n",
        "import matplotlib.pyplot as plt"
      ]
    },
    {
      "cell_type": "code",
      "source": [
        "first_round = pd.read_csv('first_round.csv')\n",
        "second_round = pd.read_csv('second_round.csv')"
      ],
      "metadata": {
        "id": "U3tTJE4aQzTX"
      },
      "execution_count": null,
      "outputs": []
    },
    {
      "cell_type": "code",
      "source": [
        "first_round = first_round.filter(regex='^(?!.*Unnamed)')"
      ],
      "metadata": {
        "id": "AiezNkzNRBSH"
      },
      "execution_count": null,
      "outputs": []
    },
    {
      "cell_type": "code",
      "source": [
        "def lowercase_string(x):\n",
        "    if isinstance(x, str):\n",
        "        x = x.lower().replace('_', '').replace(' ', '').replace('association','relationship')\n",
        "        x = x.replace('2shots', '2shot')\n",
        "        x = x.replace('gpt3.5', 'chat')\n",
        "        x = x.replace('-', '')\n",
        "        x = x.replace('block223', 'block')\n",
        "    return x\n",
        "\n",
        "first_round = first_round.applymap(lowercase_string)\n",
        "second_round = second_round.applymap(lowercase_string)"
      ],
      "metadata": {
        "id": "PAjy4OagRCHL"
      },
      "execution_count": null,
      "outputs": []
    },
    {
      "cell_type": "code",
      "source": [
        "def element_to_metric(x):\n",
        "    metrics = ['precision', 'recall', 'f1']\n",
        "    return {\n",
        "        metric: x[metric] for metric in metrics\n",
        "    }\n",
        "\n",
        "def df_to_dict(df):\n",
        "    dict_df = df.apply(element_to_metric, axis=1).to_list()\n",
        "    print(dict_df)\n",
        "    keys = df['Setting'] + '_' + df['LLM']+ '_' + df['ModelID']+ '_' + df['ModelElement']\n",
        "    return dict(zip(keys, dict_df))\n",
        "\n",
        "def collect_settings(first_round, second_round, metric='f1'):\n",
        "    # second round contains more configurations so we start from the first round\n",
        "    first_round_dict = df_to_dict(first_round)\n",
        "    second_round_dict = df_to_dict(second_round)\n",
        "    print(first_round_dict.keys())\n",
        "    print(second_round_dict.keys())\n",
        "    second_round_dict = {key: second_round_dict[key] for key, value in first_round_dict.items()}\n",
        "    return first_round_dict, second_round_dict\n"
      ],
      "metadata": {
        "id": "ST-FGIlRREWb"
      },
      "execution_count": null,
      "outputs": []
    },
    {
      "cell_type": "code",
      "source": [
        "dict1, dict2 = collect_settings(first_round, second_round)"
      ],
      "metadata": {
        "colab": {
          "base_uri": "https://localhost:8080/"
        },
        "id": "wBAAEoyRSEn6",
        "outputId": "fd685641-aea1-49c9-b017-a4baf7189a44"
      },
      "execution_count": null,
      "outputs": [
        {
          "output_type": "stream",
          "name": "stdout",
          "text": [
            "[{'precision': 0.9256, 'recall': 0.4375, 'f1': 0.5942}, {'precision': 0.9167, 'recall': 0.4615, 'f1': 0.6139}, {'precision': 0.8333, 'recall': 0.4688, 'f1': 0.6}, {'precision': 0.8182, 'recall': 0.413, 'f1': 0.5489}, {'precision': 1.0, 'recall': 0.25, 'f1': 0.4}, {'precision': 0.8571, 'recall': 0.4, 'f1': 0.5455}, {'precision': 1.0, 'recall': 0.2778, 'f1': 0.4348}, {'precision': 0.5625, 'recall': 0.2895, 'f1': 0.3823}, {'precision': 0.8148, 'recall': 0.3721, 'f1': 0.5109}, {'precision': 0.8261, 'recall': 0.6304, 'f1': 0.7151}, {'precision': 0.6944, 'recall': 0.5625, 'f1': 0.6215}, {'precision': 0.5, 'recall': 0.4654, 'f1': 0.4821}, {'precision': 0.7, 'recall': 0.23, 'f1': 0.3462}, {'precision': 0.3824, 'recall': 0.2333, 'f1': 0.2898}, {'precision': 0.1316, 'recall': 0.125, 'f1': 0.1282}, {'precision': 0.413, 'recall': 0.3125, 'f1': 0.3558}, {'precision': 0.6429, 'recall': 0.25, 'f1': 0.36}, {'precision': 0.4167, 'recall': 0.1316, 'f1': 0.2}, {'precision': 0.0, 'recall': 0.0, 'f1': 0.0}, {'precision': 0.35, 'recall': 0.1458, 'f1': 0.2058}, {'precision': 0.125, 'recall': 0.0, 'f1': 0.0}, {'precision': 0.25, 'recall': 0.0526, 'f1': 0.0869}, {'precision': 0.25, 'recall': 0.075, 'f1': 0.1154}, {'precision': 0.0455, 'recall': 0.0227, 'f1': 0.0303}, {'precision': 1.0, 'recall': 0.4375, 'f1': 0.6087}, {'precision': 0.9286, 'recall': 0.5769, 'f1': 0.7117}, {'precision': 1.0, 'recall': 0.4375, 'f1': 0.6087}, {'precision': 1.0, 'recall': 0.4565, 'f1': 0.6268}, {'precision': 1.0, 'recall': 0.5313, 'f1': 0.6939}, {'precision': 0.875, 'recall': 0.5333, 'f1': 0.6627}, {'precision': 0.8571, 'recall': 0.3333, 'f1': 0.48}, {'precision': 1.0, 'recall': 0.3421, 'f1': 0.5098}, {'precision': 0.9048, 'recall': 0.3488, 'f1': 0.5035}, {'precision': 0.8, 'recall': 0.587, 'f1': 0.6771}, {'precision': 0.75, 'recall': 0.4167, 'f1': 0.5357}, {'precision': 0.6, 'recall': 0.3077, 'f1': 0.4068}, {'precision': 0.7917, 'recall': 0.32, 'f1': 0.4558}, {'precision': 0.6176, 'recall': 0.3333, 'f1': 0.433}, {'precision': 0.5, 'recall': 0.125, 'f1': 0.2}, {'precision': 0.5, 'recall': 0.2031, 'f1': 0.2889}, {'precision': 0.8636, 'recall': 0.3409, 'f1': 0.4888}, {'precision': 0.4643, 'recall': 0.3421, 'f1': 0.3939}, {'precision': 0.5, 'recall': 0.2143, 'f1': 0.3}, {'precision': 0.5, 'recall': 0.2083, 'f1': 0.2941}, {'precision': 0.4, 'recall': 0.23, 'f1': 0.2921}, {'precision': 0.3333, 'recall': 0.1579, 'f1': 0.2143}, {'precision': 0.44, 'recall': 0.2, 'f1': 0.275}, {'precision': 0.7123, 'recall': 0.0455, 'f1': 0.0855}, {'precision': 1.0, 'recall': 0.5313, 'f1': 0.6939}, {'precision': 1.0, 'recall': 0.5, 'f1': 0.6667}, {'precision': 0.9, 'recall': 0.5625, 'f1': 0.6923}, {'precision': 0.9444, 'recall': 0.4348, 'f1': 0.5954}, {'precision': 1.0, 'recall': 0.3125, 'f1': 0.4762}, {'precision': 1.0, 'recall': 0.4333, 'f1': 0.6047}, {'precision': 0.9167, 'recall': 0.3333, 'f1': 0.4889}, {'precision': 0.875, 'recall': 0.3684, 'f1': 0.5185}, {'precision': 0.7115, 'recall': 0.314, 'f1': 0.4357}, {'precision': 0.8421, 'recall': 0.5, 'f1': 0.6274}, {'precision': 0.6667, 'recall': 0.2917, 'f1': 0.4058}, {'precision': 0.3846, 'recall': 0.3269, 'f1': 0.3534}, {'precision': 0.7273, 'recall': 0.2, 'f1': 0.3137}, {'precision': 0.4, 'recall': 0.25, 'f1': 0.3077}, {'precision': 0.125, 'recall': 0.0625, 'f1': 0.0833}, {'precision': 0.4412, 'recall': 0.2656, 'f1': 0.3316}, {'precision': 0.6333, 'recall': 0.3864, 'f1': 0.48}, {'precision': 0.5, 'recall': 0.1579, 'f1': 0.24}, {'precision': 0.4, 'recall': 0.1429, 'f1': 0.2106}, {'precision': 0.6, 'recall': 0.2083, 'f1': 0.3093}, {'precision': 0.3333, 'recall': 0.05, 'f1': 0.087}, {'precision': 0.5625, 'recall': 0.2632, 'f1': 0.3586}, {'precision': 0.3333, 'recall': 0.15, 'f1': 0.2069}, {'precision': 0.1333, 'recall': 0.0682, 'f1': 0.0902}, {'precision': 0.9444, 'recall': 0.5625, 'f1': 0.7051}, {'precision': 0.9167, 'recall': 0.4375, 'f1': 0.5923}, {'precision': 0.875, 'recall': 0.4688, 'f1': 0.6105}, {'precision': 0.8889, 'recall': 0.3913, 'f1': 0.5434}, {'precision': 0.94, 'recall': 0.53, 'f1': 0.6778}, {'precision': 0.9091, 'recall': 0.6, 'f1': 0.7229}, {'precision': 0.7222, 'recall': 0.5278, 'f1': 0.6099}, {'precision': 0.8571, 'recall': 0.3947, 'f1': 0.5405}, {'precision': 0.8667, 'recall': 0.5465, 'f1': 0.6703}, {'precision': 0.8182, 'recall': 0.587, 'f1': 0.6836}, {'precision': 0.75, 'recall': 0.5625, 'f1': 0.6429}, {'precision': 0.4444, 'recall': 0.25, 'f1': 0.32}, {'precision': 0.75, 'recall': 0.4, 'f1': 0.5217}, {'precision': 0.4583, 'recall': 0.2333, 'f1': 0.3092}, {'precision': 0.4333, 'recall': 0.0625, 'f1': 0.1092}, {'precision': 0.413, 'recall': 0.2344, 'f1': 0.2991}, {'precision': 0.9091, 'recall': 0.4091, 'f1': 0.5643}, {'precision': 0.75, 'recall': 0.2632, 'f1': 0.3897}, {'precision': 0.4167, 'recall': 0.2381, 'f1': 0.303}, {'precision': 0.5, 'recall': 0.1667, 'f1': 0.25}, {'precision': 0.36, 'recall': 0.2, 'f1': 0.2571}, {'precision': 0.5769, 'recall': 0.1579, 'f1': 0.2479}, {'precision': 0.3333, 'recall': 0.1, 'f1': 0.1538}, {'precision': 0.4091, 'recall': 0.1136, 'f1': 0.1779}, {'precision': 0.875, 'recall': 0.4688, 'f1': 0.6105}, {'precision': 0.8571, 'recall': 0.4615, 'f1': 0.6}, {'precision': 0.7143, 'recall': 0.375, 'f1': 0.4918}, {'precision': 0.9583, 'recall': 0.6579, 'f1': 0.7801}, {'precision': 1.0, 'recall': 0.4375, 'f1': 0.6087}, {'precision': 0.8889, 'recall': 0.5333, 'f1': 0.6667}, {'precision': 1.0, 'recall': 0.4167, 'f1': 0.5882}, {'precision': 0.6667, 'recall': 0.3158, 'f1': 0.4286}, {'precision': 0.6471, 'recall': 0.4767, 'f1': 0.549}, {'precision': 0.5484, 'recall': 0.5652, 'f1': 0.5567}, {'precision': 0.5714, 'recall': 0.3125, 'f1': 0.404}, {'precision': 0.3947, 'recall': 0.2656, 'f1': 0.3176}, {'precision': 0.75, 'recall': 0.2, 'f1': 0.3158}, {'precision': 0.5769, 'recall': 0.2833, 'f1': 0.38}, {'precision': 0.3571, 'recall': 0.125, 'f1': 0.1852}, {'precision': 0.2407, 'recall': 0.2344, 'f1': 0.2375}, {'precision': 0.2857, 'recall': 0.0909, 'f1': 0.1379}, {'precision': 0.0, 'recall': 0.0, 'f1': 0.0}, {'precision': 0.3333, 'recall': 0.1429, 'f1': 0.2}, {'precision': 0.5455, 'recall': 0.2727, 'f1': 0.3636}, {'precision': 0.5, 'recall': 0.125, 'f1': 0.2}, {'precision': 0.0714, 'recall': 0.0263, 'f1': 0.0385}, {'precision': 0.0625, 'recall': 0.025, 'f1': 0.0357}, {'precision': 0.1111, 'recall': 0.0455, 'f1': 0.0645}, {'precision': 1.0, 'recall': 0.4375, 'f1': 0.6087}, {'precision': 0.9286, 'recall': 0.6154, 'f1': 0.7402}, {'precision': 0.8636, 'recall': 0.625, 'f1': 0.7252}, {'precision': 1.0, 'recall': 0.2826, 'f1': 0.4407}, {'precision': 0.8571, 'recall': 0.3438, 'f1': 0.4907}, {'precision': 0.9, 'recall': 0.3333, 'f1': 0.4865}, {'precision': 0.7143, 'recall': 0.2778, 'f1': 0.4}, {'precision': 0.75, 'recall': 0.3684, 'f1': 0.4941}, {'precision': 0.9091, 'recall': 0.2442, 'f1': 0.385}, {'precision': 0.8958, 'recall': 0.8261, 'f1': 0.8595}, {'precision': 0.3485, 'recall': 0.3958, 'f1': 0.3707}, {'precision': 0.3, 'recall': 0.1731, 'f1': 0.2195}, {'precision': 0.4833, 'recall': 0.42, 'f1': 0.4494}, {'precision': 0.3235, 'recall': 0.1833, 'f1': 0.234}, {'precision': 0.1, 'recall': 0.0625, 'f1': 0.0769}, {'precision': 0.5179, 'recall': 0.4219, 'f1': 0.465}, {'precision': 0.2143, 'recall': 0.0682, 'f1': 0.1034}, {'precision': 0.0714, 'recall': 0.0526, 'f1': 0.0606}, {'precision': 0.3333, 'recall': 0.1429, 'f1': 0.2}, {'precision': 0.5, 'recall': 0.125, 'f1': 0.2}, {'precision': 0.0, 'recall': 0.0, 'f1': 0.0}, {'precision': 0.1818, 'recall': 0.1316, 'f1': 0.1527}, {'precision': 0.2083, 'recall': 0.125, 'f1': 0.1563}, {'precision': 0.25, 'recall': 0.0909, 'f1': 0.1333}, {'precision': 0.95, 'recall': 0.5936, 'f1': 0.7308}, {'precision': 0.9286, 'recall': 0.6153, 'f1': 0.7402}, {'precision': 1.0, 'recall': 0.5938, 'f1': 0.7451}, {'precision': 1.0, 'recall': 0.3478, 'f1': 0.5161}, {'precision': 0.9, 'recall': 0.2813, 'f1': 0.4286}, {'precision': 0.85, 'recall': 0.5667, 'f1': 0.68}, {'precision': 0.9545, 'recall': 0.6944, 'f1': 0.804}, {'precision': 1.0, 'recall': 0.3421, 'f1': 0.5098}, {'precision': 0.625, 'recall': 0.5, 'f1': 0.5556}, {'precision': 0.8043, 'recall': 0.7609, 'f1': 0.782}, {'precision': 0.9, 'recall': 0.2917, 'f1': 0.4406}, {'precision': 0.375, 'recall': 0.1923, 'f1': 0.2542}, {'precision': 0.5556, 'recall': 0.2, 'f1': 0.2941}, {'precision': 0.2931, 'recall': 0.3167, 'f1': 0.3044}, {'precision': 0.5714, 'recall': 0.125, 'f1': 0.2051}, {'precision': 0.4565, 'recall': 0.2813, 'f1': 0.3481}, {'precision': 0.7273, 'recall': 0.3182, 'f1': 0.4427}, {'precision': 0.6667, 'recall': 0.2895, 'f1': 0.4037}, {'precision': 0.2917, 'recall': 0.3095, 'f1': 0.3003}, {'precision': 0.1923, 'recall': 0.1042, 'f1': 0.1351}, {'precision': 0.0333, 'recall': 0.025, 'f1': 0.0286}, {'precision': 0.05, 'recall': 0.0526, 'f1': 0.0513}, {'precision': 0.4167, 'recall': 0.25, 'f1': 0.3125}, {'precision': 0.2222, 'recall': 0.0909, 'f1': 0.129}, {'precision': 0.95, 'recall': 0.5625, 'f1': 0.7066}, {'precision': 0.65, 'recall': 0.6154, 'f1': 0.6322}, {'precision': 0.75, 'recall': 0.5625, 'f1': 0.6429}, {'precision': 0.9091, 'recall': 0.5, 'f1': 0.6452}, {'precision': 0.7727, 'recall': 0.4375, 'f1': 0.5587}, {'precision': 0.9167, 'recall': 0.6667, 'f1': 0.7719}, {'precision': 0.75, 'recall': 0.6667, 'f1': 0.7059}, {'precision': 0.8571, 'recall': 0.3684, 'f1': 0.5153}, {'precision': 0.6486, 'recall': 0.3953, 'f1': 0.4913}, {'precision': 0.7391, 'recall': 0.5, 'f1': 0.5965}, {'precision': 0.4375, 'recall': 0.3125, 'f1': 0.3646}, {'precision': 0.3529, 'recall': 0.3269, 'f1': 0.3394}, {'precision': 0.375, 'recall': 0.34, 'f1': 0.3566}, {'precision': 0.2813, 'recall': 0.3167, 'f1': 0.2979}, {'precision': 0.5385, 'recall': 0.1875, 'f1': 0.2781}, {'precision': 0.5263, 'recall': 0.2813, 'f1': 0.3666}, {'precision': 0.3333, 'recall': 0.0909, 'f1': 0.1249}, {'precision': 0.3824, 'recall': 0.2632, 'f1': 0.3118}, {'precision': 0.0833, 'recall': 0.0476, 'f1': 0.0606}, {'precision': 0.4583, 'recall': 0.2292, 'f1': 0.3056}, {'precision': 0.25, 'recall': 0.2, 'f1': 0.2222}, {'precision': 0.3947, 'recall': 0.2632, 'f1': 0.3158}, {'precision': 0.24, 'recall': 0.275, 'f1': 0.2563}, {'precision': 0.2727, 'recall': 0.0909, 'f1': 0.1364}, {'precision': 0.7917, 'recall': 0.625, 'f1': 0.6985}, {'precision': 0.9375, 'recall': 0.6154, 'f1': 0.743}, {'precision': 0.875, 'recall': 0.4688, 'f1': 0.6105}, {'precision': 0.9091, 'recall': 0.5, 'f1': 0.6452}, {'precision': 0.8182, 'recall': 0.5625, 'f1': 0.6667}, {'precision': 0.9, 'recall': 0.6, 'f1': 0.72}, {'precision': 0.9091, 'recall': 0.6389, 'f1': 0.7504}, {'precision': 0.8, 'recall': 0.3947, 'f1': 0.5286}, {'precision': 0.7857, 'recall': 0.4884, 'f1': 0.6023}, {'precision': 0.5345, 'recall': 0.6957, 'f1': 0.6045}, {'precision': 0.75, 'recall': 0.3958, 'f1': 0.5182}, {'precision': 0.5833, 'recall': 0.3654, 'f1': 0.4493}, {'precision': 0.6905, 'recall': 0.48, 'f1': 0.5663}, {'precision': 0.4091, 'recall': 0.2167, 'f1': 0.2833}, {'precision': 0.5556, 'recall': 0.25, 'f1': 0.3448}, {'precision': 0.4423, 'recall': 0.3281, 'f1': 0.3768}, {'precision': 0.5625, 'recall': 0.3636, 'f1': 0.4417}, {'precision': 0.5385, 'recall': 0.3947, 'f1': 0.4555}, {'precision': 0.1667, 'recall': 0.0952, 'f1': 0.1212}, {'precision': 0.3889, 'recall': 0.1458, 'f1': 0.2121}, {'precision': 0.3438, 'recall': 0.175, 'f1': 0.2319}, {'precision': 0.5625, 'recall': 0.2895, 'f1': 0.3822}, {'precision': 0.3333, 'recall': 0.175, 'f1': 0.2295}, {'precision': 0.25, 'recall': 0.1136, 'f1': 0.1563}, {'precision': 1.0, 'recall': 0.4063, 'f1': 0.5778}, {'precision': 1.0, 'recall': 0.5385, 'f1': 0.7}, {'precision': 0.875, 'recall': 0.4063, 'f1': 0.5549}, {'precision': 1.0, 'recall': 0.4783, 'f1': 0.6471}, {'precision': 0.8333, 'recall': 0.3125, 'f1': 0.4545}, {'precision': 1.0, 'recall': 0.5333, 'f1': 0.6957}, {'precision': 0.6111, 'recall': 0.4167, 'f1': 0.4955}, {'precision': 0.6364, 'recall': 0.3947, 'f1': 0.4872}, {'precision': 0.8043, 'recall': 0.3837, 'f1': 0.5196}, {'precision': 0.9074, 'recall': 0.8261, 'f1': 0.8648}, {'precision': 0.5625, 'recall': 0.2917, 'f1': 0.3841}, {'precision': 0.5357, 'recall': 0.3846, 'f1': 0.4478}, {'precision': 0.8636, 'recall': 0.26, 'f1': 0.3997}, {'precision': 0.3621, 'recall': 0.3167, 'f1': 0.3378}, {'precision': 0.4167, 'recall': 0.0, 'f1': 0.0}, {'precision': 0.4483, 'recall': 0.375, 'f1': 0.4084}, {'precision': 0.75, 'recall': 0.2045, 'f1': 0.3214}, {'precision': 0.0, 'recall': 0.0, 'f1': 0.0}, {'precision': 0.0, 'recall': 0.0, 'f1': 0.0}, {'precision': 0.5909, 'recall': 0.2708, 'f1': 0.3714}, {'precision': 0.1111, 'recall': 0.025, 'f1': 0.0408}, {'precision': 0.0909, 'recall': 0.0526, 'f1': 0.0667}, {'precision': 0.0333, 'recall': 0.025, 'f1': 0.0286}, {'precision': 0.1333, 'recall': 0.0909, 'f1': 0.1081}]\n",
            "[{'precision': 0.9375, 'recall': 0.46875, 'f1': 0.625}, {'precision': 0.90741, 'recall': 0.45349, 'f1': 0.60475}, {'precision': 0.5, 'recall': 0.15909, 'f1': 0.24138}, {'precision': 0.9375, 'recall': 0.57692, 'f1': 0.71429}, {'precision': 0.80357, 'recall': 0.80435, 'f1': 0.80396}, {'precision': 0.33333, 'recall': 0.15, 'f1': 0.2069}, {'precision': 0.85, 'recall': 0.46875, 'f1': 0.60427}, {'precision': 0.92857, 'recall': 0.66667, 'f1': 0.77612}, {'precision': 0.42857, 'recall': 0.225, 'f1': 0.29508}, {'precision': 0.9, 'recall': 0.63043, 'f1': 0.74148}, {'precision': 0.35294, 'recall': 0.46154, 'f1': 0.4}, {'precision': 0.5, 'recall': 0.2037, 'f1': 0.28947}, {'precision': 0.94444, 'recall': 0.5625, 'f1': 0.70507}, {'precision': 0.70455, 'recall': 0.48, 'f1': 0.57099}, {'precision': 0.375, 'recall': 0.18421, 'f1': 0.24706}, {'precision': 0.88889, 'recall': 0.53333, 'f1': 0.66667}, {'precision': 0.54, 'recall': 0.38333, 'f1': 0.44838}, {'precision': 0.61111, 'recall': 0.22917, 'f1': 0.33333}, {'precision': 0.8, 'recall': 0.55556, 'f1': 0.65574}, {'precision': 0.41176, 'recall': 0.44737, 'f1': 0.42883}, {'precision': 0.5, 'recall': 0.14286, 'f1': 0.22222}, {'precision': 0.85, 'recall': 0.52778, 'f1': 0.65121}, {'precision': 0.44565, 'recall': 0.54688, 'f1': 0.4911}, {'precision': 0.25, 'recall': 0.13636, 'f1': 0.17647}, {'precision': 0.9, 'recall': 0.5625, 'f1': 0.69231}, {'precision': 0.86486, 'recall': 0.5, 'f1': 0.63366}, {'precision': 0.70833, 'recall': 0.31818, 'f1': 0.43911}, {'precision': 0.94444, 'recall': 0.65385, 'f1': 0.77273}, {'precision': 0.84483, 'recall': 0.84783, 'f1': 0.84632}, {'precision': 0.59091, 'recall': 0.35, 'f1': 0.43961}, {'precision': 0.91667, 'recall': 0.625, 'f1': 0.74324}, {'precision': 0.48148, 'recall': 0.6875, 'f1': 0.56634}, {'precision': 0.375, 'recall': 0.15, 'f1': 0.21429}, {'precision': 0.84615, 'recall': 0.56522, 'f1': 0.67773}, {'precision': 0.61905, 'recall': 0.46154, 'f1': 0.52881}, {'precision': 0.59091, 'recall': 0.2037, 'f1': 0.30297}, {'precision': 1.0, 'recall': 0.625, 'f1': 0.76923}, {'precision': 0.7619, 'recall': 0.48, 'f1': 0.58896}, {'precision': 0.31818, 'recall': 0.31579, 'f1': 0.31698}, {'precision': 1.0, 'recall': 0.8, 'f1': 0.88889}, {'precision': 0.79545, 'recall': 0.51667, 'f1': 0.62644}, {'precision': 0.625, 'recall': 0.3125, 'f1': 0.41667}, {'precision': 0.88889, 'recall': 0.61111, 'f1': 0.72428}, {'precision': 0.81818, 'recall': 0.13158, 'f1': 0.2267}, {'precision': 0.35, 'recall': 0.16667, 'f1': 0.22581}, {'precision': 0.95833, 'recall': 0.66667, 'f1': 0.78632}, {'precision': 0.58889, 'recall': 0.70313, 'f1': 0.64096}, {'precision': 0.4375, 'recall': 0.27273, 'f1': 0.336}, {'precision': 0.95, 'recall': 0.59375, 'f1': 0.73077}, {'precision': 0.90244, 'recall': 0.62791, 'f1': 0.74055}, {'precision': 0.83333, 'recall': 0.40909, 'f1': 0.54878}, {'precision': 0.83333, 'recall': 0.57692, 'f1': 0.68182}, {'precision': 0.77778, 'recall': 0.69565, 'f1': 0.73443}, {'precision': 0.58333, 'recall': 0.3, 'f1': 0.39623}, {'precision': 0.88462, 'recall': 0.6875, 'f1': 0.7737}, {'precision': 0.85294, 'recall': 0.72917, 'f1': 0.78621}, {'precision': 0.47222, 'recall': 0.375, 'f1': 0.41803}, {'precision': 0.69231, 'recall': 0.52174, 'f1': 0.59504}, {'precision': 0.33333, 'recall': 0.36538, 'f1': 0.34862}, {'precision': 0.7, 'recall': 0.25926, 'f1': 0.37838}, {'precision': 0.95, 'recall': 0.59375, 'f1': 0.73077}, {'precision': 0.81818, 'recall': 0.64, 'f1': 0.7182}, {'precision': 0.27273, 'recall': 0.10526, 'f1': 0.1519}, {'precision': 0.84615, 'recall': 0.66667, 'f1': 0.74576}, {'precision': 0.575, 'recall': 0.38333, 'f1': 0.46}, {'precision': 0.65385, 'recall': 0.3125, 'f1': 0.42289}, {'precision': 0.72727, 'recall': 0.61111, 'f1': 0.66415}, {'precision': 0.46154, 'recall': 0.21053, 'f1': 0.28916}, {'precision': 0.16667, 'recall': 0.09524, 'f1': 0.12121}, {'precision': 0.79167, 'recall': 0.55556, 'f1': 0.65292}, {'precision': 0.54054, 'recall': 0.67188, 'f1': 0.59909}, {'precision': 0.36364, 'recall': 0.13636, 'f1': 0.19835}, {'precision': 0.95, 'recall': 0.59375, 'f1': 0.73077}, {'precision': 0.9, 'recall': 0.66279, 'f1': 0.76339}, {'precision': 0.83333, 'recall': 0.40909, 'f1': 0.54878}, {'precision': 0.94444, 'recall': 0.69231, 'f1': 0.79896}, {'precision': 0.85185, 'recall': 0.78261, 'f1': 0.81576}, {'precision': 0.44118, 'recall': 0.3, 'f1': 0.35714}, {'precision': 0.91667, 'recall': 0.5625, 'f1': 0.69718}, {'precision': 0.41176, 'recall': 0.66667, 'f1': 0.50909}, {'precision': 0.59375, 'recall': 0.375, 'f1': 0.45968}, {'precision': 1.0, 'recall': 0.47826, 'f1': 0.64706}, {'precision': 0.67647, 'recall': 0.40385, 'f1': 0.50576}, {'precision': 0.5, 'recall': 0.2963, 'f1': 0.37209}, {'precision': 0.95455, 'recall': 0.65625, 'f1': 0.77778}, {'precision': 0.71739, 'recall': 0.58, 'f1': 0.64142}, {'precision': 0.25, 'recall': 0.13158, 'f1': 0.17241}, {'precision': 0.8, 'recall': 0.8, 'f1': 0.8}, {'precision': 0.47619, 'recall': 0.35, 'f1': 0.40346}, {'precision': 0.47222, 'recall': 0.35417, 'f1': 0.40476}, {'precision': 1.0, 'recall': 0.66667, 'f1': 0.8}, {'precision': 0.9375, 'recall': 0.44737, 'f1': 0.6057}, {'precision': 0.11765, 'recall': 0.09524, 'f1': 0.10526}, {'precision': 0.95455, 'recall': 0.58333, 'f1': 0.72414}, {'precision': 0.6, 'recall': 0.625, 'f1': 0.61224}, {'precision': 0.375, 'recall': 0.20455, 'f1': 0.26471}, {'precision': 0.95, 'recall': 0.59375, 'f1': 0.73077}, {'precision': 0.7125, 'recall': 0.62791, 'f1': 0.66753}, {'precision': 0.45, 'recall': 0.20455, 'f1': 0.28125}, {'precision': 0.75, 'recall': 0.53846, 'f1': 0.62687}, {'precision': 0.64815, 'recall': 0.82609, 'f1': 0.72638}, {'precision': 0.22222, 'recall': 0.075, 'f1': 0.11215}, {'precision': 0.90909, 'recall': 0.625, 'f1': 0.74074}, {'precision': 0.7, 'recall': 0.35417, 'f1': 0.47036}, {'precision': 0.25, 'recall': 0.225, 'f1': 0.23684}, {'precision': 0.9, 'recall': 0.54348, 'f1': 0.67771}, {'precision': 0.44118, 'recall': 0.30769, 'f1': 0.36254}, {'precision': 0.53846, 'recall': 0.25926, 'f1': 0.35}, {'precision': 1.0, 'recall': 0.5625, 'f1': 0.72}, {'precision': 0.775, 'recall': 0.4, 'f1': 0.52766}, {'precision': 0.41667, 'recall': 0.26316, 'f1': 0.32258}, {'precision': 0.75, 'recall': 0.6, 'f1': 0.66667}, {'precision': 0.52273, 'recall': 0.41667, 'f1': 0.46371}, {'precision': 0.39286, 'recall': 0.1875, 'f1': 0.25385}, {'precision': 0.85714, 'recall': 0.44444, 'f1': 0.58537}, {'precision': 0.83333, 'recall': 0.18421, 'f1': 0.30172}, {'precision': 0.64286, 'recall': 0.2619, 'f1': 0.37218}, {'precision': 0.80769, 'recall': 0.47222, 'f1': 0.59599}, {'precision': 0.52381, 'recall': 0.46875, 'f1': 0.49475}, {'precision': 0.46154, 'recall': 0.18182, 'f1': 0.26087}, {'precision': 0.92857, 'recall': 0.4375, 'f1': 0.59477}, {'precision': 0.75926, 'recall': 0.34884, 'f1': 0.47804}, {'precision': 0.64286, 'recall': 0.20455, 'f1': 0.31034}, {'precision': 0.91667, 'recall': 0.42308, 'f1': 0.57895}, {'precision': 0.78261, 'recall': 0.56522, 'f1': 0.65638}, {'precision': 0.41667, 'recall': 0.15, 'f1': 0.22059}, {'precision': 0.88889, 'recall': 0.46875, 'f1': 0.61381}, {'precision': 0.77778, 'recall': 0.625, 'f1': 0.69307}, {'precision': 0.0625, 'recall': 0.05, 'f1': 0.05556}, {'precision': 0.81818, 'recall': 0.43478, 'f1': 0.56782}, {'precision': 0.55, 'recall': 0.40385, 'f1': 0.46573}, {'precision': 0.33333, 'recall': 0.11111, 'f1': 0.16667}, {'precision': 1.0, 'recall': 0.25, 'f1': 0.4}, {'precision': 0.7, 'recall': 0.24, 'f1': 0.35745}, {'precision': 0.0, 'recall': 0.0, 'f1': 0.0}, {'precision': 0.85714, 'recall': 0.4, 'f1': 0.54545}, {'precision': 0.30952, 'recall': 0.25, 'f1': 0.2766}, {'precision': 0.3125, 'recall': 0.10417, 'f1': 0.15625}, {'precision': 1.0, 'recall': 0.36111, 'f1': 0.53061}, {'precision': 0.23684, 'recall': 0.21053, 'f1': 0.22291}, {'precision': 0.33333, 'recall': 0.09524, 'f1': 0.14815}, {'precision': 0.6875, 'recall': 0.36111, 'f1': 0.47351}, {'precision': 0.46, 'recall': 0.34375, 'f1': 0.39347}, {'precision': 0.14286, 'recall': 0.04545, 'f1': 0.06897}, {'precision': 1.0, 'recall': 0.4375, 'f1': 0.6087}, {'precision': 0.85714, 'recall': 0.32558, 'f1': 0.47191}, {'precision': 0.86364, 'recall': 0.38636, 'f1': 0.53388}, {'precision': 1.0, 'recall': 0.65385, 'f1': 0.7907}, {'precision': 0.775, 'recall': 0.56522, 'f1': 0.65369}, {'precision': 0.71429, 'recall': 0.36842, 'f1': 0.48611}, {'precision': 0.91667, 'recall': 0.375, 'f1': 0.53226}, {'precision': 0.83333, 'recall': 0.41667, 'f1': 0.55556}, {'precision': 0.55556, 'recall': 0.225, 'f1': 0.32028}, {'precision': 1.0, 'recall': 0.5, 'f1': 0.66667}, {'precision': 0.7, 'recall': 0.30769, 'f1': 0.42748}, {'precision': 0.55, 'recall': 0.18966, 'f1': 0.28205}, {'precision': 1.0, 'recall': 0.5, 'f1': 0.66667}, {'precision': 0.79167, 'recall': 0.28, 'f1': 0.41369}, {'precision': 0.46667, 'recall': 0.28947, 'f1': 0.35731}, {'precision': 0.875, 'recall': 0.53333, 'f1': 0.66272}, {'precision': 0.61765, 'recall': 0.35, 'f1': 0.44681}, {'precision': 0.27778, 'recall': 0.10417, 'f1': 0.15152}, {'precision': 0.85714, 'recall': 0.41667, 'f1': 0.56075}, {'precision': 0.875, 'recall': 0.10526, 'f1': 0.18792}, {'precision': 0.5, 'recall': 0.21429, 'f1': 0.3}, {'precision': 1.0, 'recall': 0.38889, 'f1': 0.56}, {'precision': 0.40909, 'recall': 0.125, 'f1': 0.19149}, {'precision': 0.5, 'recall': 0.11364, 'f1': 0.18519}, {'precision': 1.0, 'recall': 0.5, 'f1': 0.66667}, {'precision': 0.71154, 'recall': 0.34884, 'f1': 0.46816}, {'precision': 0.73333, 'recall': 0.38636, 'f1': 0.50609}, {'precision': 1.0, 'recall': 0.46154, 'f1': 0.63158}, {'precision': 0.84211, 'recall': 0.5, 'f1': 0.62745}, {'precision': 0.5625, 'recall': 0.2, 'f1': 0.29508}, {'precision': 0.9, 'recall': 0.5625, 'f1': 0.69231}, {'precision': 0.83333, 'recall': 0.5625, 'f1': 0.67164}, {'precision': 0.4, 'recall': 0.15, 'f1': 0.21818}, {'precision': 0.94444, 'recall': 0.47826, 'f1': 0.63497}, {'precision': 0.61538, 'recall': 0.34615, 'f1': 0.44308}, {'precision': 0.65, 'recall': 0.2037, 'f1': 0.3102}, {'precision': 1.0, 'recall': 0.3125, 'f1': 0.47619}, {'precision': 0.72727, 'recall': 0.2, 'f1': 0.31373}, {'precision': 0.33333, 'recall': 0.05263, 'f1': 0.09091}, {'precision': 1.0, 'recall': 0.46667, 'f1': 0.63636}, {'precision': 0.43333, 'recall': 0.25, 'f1': 0.31707}, {'precision': 0.625, 'recall': 0.20833, 'f1': 0.3125}, {'precision': 0.91667, 'recall': 0.5, 'f1': 0.64706}, {'precision': 0.5625, 'recall': 0.05263, 'f1': 0.09626}, {'precision': 0.42857, 'recall': 0.14286, 'f1': 0.21429}, {'precision': 0.8125, 'recall': 0.41667, 'f1': 0.55085}, {'precision': 0.47059, 'recall': 0.23438, 'f1': 0.31291}, {'precision': 0.35, 'recall': 0.09091, 'f1': 0.14433}, {'precision': 1.0, 'recall': 0.4375, 'f1': 0.6087}, {'precision': 0.86, 'recall': 0.43023, 'f1': 0.57354}, {'precision': 0.90909, 'recall': 0.40909, 'f1': 0.56426}, {'precision': 0.91667, 'recall': 0.42308, 'f1': 0.57895}, {'precision': 0.81818, 'recall': 0.56522, 'f1': 0.66857}, {'precision': 0.57143, 'recall': 0.225, 'f1': 0.32287}, {'precision': 0.9375, 'recall': 0.53125, 'f1': 0.67819}, {'precision': 0.79167, 'recall': 0.5625, 'f1': 0.65769}, {'precision': 0.5, 'recall': 0.25, 'f1': 0.33333}, {'precision': 0.88889, 'recall': 0.43478, 'f1': 0.58394}, {'precision': 0.5, 'recall': 0.25, 'f1': 0.33333}, {'precision': 0.5, 'recall': 0.14815, 'f1': 0.22857}, {'precision': 0.94444, 'recall': 0.53125, 'f1': 0.68}, {'precision': 0.77778, 'recall': 0.42, 'f1': 0.54545}, {'precision': 0.32143, 'recall': 0.18421, 'f1': 0.2342}, {'precision': 0.90909, 'recall': 0.6, 'f1': 0.72289}, {'precision': 0.46154, 'recall': 0.28333, 'f1': 0.35112}, {'precision': 0.69231, 'recall': 0.27083, 'f1': 0.38935}, {'precision': 0.77778, 'recall': 0.58333, 'f1': 0.66667}, {'precision': 0.71429, 'recall': 0.21053, 'f1': 0.3252}, {'precision': 0.44444, 'recall': 0.14286, 'f1': 0.21622}, {'precision': 0.92857, 'recall': 0.47222, 'f1': 0.62606}, {'precision': 0.45652, 'recall': 0.3125, 'f1': 0.37102}, {'precision': 0.40909, 'recall': 0.15909, 'f1': 0.22909}, {'precision': 1.0, 'recall': 0.53125, 'f1': 0.69388}, {'precision': 0.79032, 'recall': 0.5, 'f1': 0.6125}, {'precision': 0.42857, 'recall': 0.11364, 'f1': 0.17964}, {'precision': 0.85714, 'recall': 0.46154, 'f1': 0.6}, {'precision': 0.54839, 'recall': 0.56522, 'f1': 0.55668}, {'precision': 0.0, 'recall': 0.0, 'f1': 0.0}, {'precision': 0.85714, 'recall': 0.375, 'f1': 0.52174}, {'precision': 0.55556, 'recall': 0.39583, 'f1': 0.46229}, {'precision': 0.33333, 'recall': 0.1, 'f1': 0.15385}, {'precision': 0.875, 'recall': 0.56522, 'f1': 0.68679}, {'precision': 0.47222, 'recall': 0.32692, 'f1': 0.38636}, {'precision': 0.63636, 'recall': 0.25926, 'f1': 0.36842}, {'precision': 1.0, 'recall': 0.4375, 'f1': 0.6087}, {'precision': 0.79167, 'recall': 0.2, 'f1': 0.31933}, {'precision': 0.64286, 'recall': 0.18421, 'f1': 0.28636}, {'precision': 0.88889, 'recall': 0.53333, 'f1': 0.66667}, {'precision': 0.46875, 'recall': 0.28333, 'f1': 0.35319}, {'precision': 0.28571, 'recall': 0.08333, 'f1': 0.12903}, {'precision': 1.0, 'recall': 0.47222, 'f1': 0.64151}, {'precision': 0.5, 'recall': 0.10526, 'f1': 0.17391}, {'precision': 0.375, 'recall': 0.14286, 'f1': 0.2069}, {'precision': 0.66667, 'recall': 0.38889, 'f1': 0.49123}, {'precision': 0.2963, 'recall': 0.25, 'f1': 0.27119}, {'precision': 0.07143, 'recall': 0.04545, 'f1': 0.05556}, {'precision': 0.92857, 'recall': 0.46875, 'f1': 0.623}, {'precision': 0.86957, 'recall': 0.39535, 'f1': 0.54357}, {'precision': 0.21429, 'recall': 0.06818, 'f1': 0.10345}, {'precision': 0.92857, 'recall': 0.53846, 'f1': 0.68165}, {'precision': 0.89583, 'recall': 0.82609, 'f1': 0.85955}, {'precision': 0.28571, 'recall': 0.125, 'f1': 0.17391}, {'precision': 0.9, 'recall': 0.59375, 'f1': 0.71548}, {'precision': 0.3871, 'recall': 0.4375, 'f1': 0.41076}, {'precision': 0.33333, 'recall': 0.15, 'f1': 0.2069}, {'precision': 1.0, 'recall': 0.30435, 'f1': 0.46667}, {'precision': 0.4, 'recall': 0.28846, 'f1': 0.3352}, {'precision': 0.5, 'recall': 0.11111, 'f1': 0.18182}, {'precision': 0.85714, 'recall': 0.34375, 'f1': 0.49071}, {'precision': 0.5, 'recall': 0.38, 'f1': 0.43182}, {'precision': 0.1, 'recall': 0.0, 'f1': 0.0}, {'precision': 0.9, 'recall': 0.33333, 'f1': 0.48649}, {'precision': 0.44118, 'recall': 0.25, 'f1': 0.31915}, {'precision': 0.18182, 'recall': 0.10417, 'f1': 0.13245}, {'precision': 0.71429, 'recall': 0.25, 'f1': 0.37037}, {'precision': 0.2, 'recall': 0.07895, 'f1': 0.11321}, {'precision': 0.20833, 'recall': 0.11905, 'f1': 0.15152}, {'precision': 0.75, 'recall': 0.41667, 'f1': 0.53571}, {'precision': 0.5, 'recall': 0.375, 'f1': 0.42857}, {'precision': 0.25, 'recall': 0.09091, 'f1': 0.13333}, {'precision': 1.0, 'recall': 0.60714, 'f1': 0.75556}, {'precision': 0.72581, 'recall': 0.43023, 'f1': 0.54023}, {'precision': 0.72727, 'recall': 0.31818, 'f1': 0.44269}, {'precision': 0.92857, 'recall': 0.57692, 'f1': 0.71168}, {'precision': 0.86364, 'recall': 0.76087, 'f1': 0.809}, {'precision': 0.66667, 'recall': 0.275, 'f1': 0.38938}, {'precision': 0.94444, 'recall': 0.5625, 'f1': 0.70507}, {'precision': 0.9, 'recall': 0.29167, 'f1': 0.44056}, {'precision': 0.375, 'recall': 0.35, 'f1': 0.36207}, {'precision': 1.0, 'recall': 0.41304, 'f1': 0.58462}, {'precision': 0.5, 'recall': 0.17308, 'f1': 0.25714}, {'precision': 0.19231, 'recall': 0.09259, 'f1': 0.125}, {'precision': 0.9, 'recall': 0.28125, 'f1': 0.42857}, {'precision': 0.55556, 'recall': 0.2, 'f1': 0.29412}, {'precision': 0.03333, 'recall': 0.02632, 'f1': 0.02941}, {'precision': 0.85, 'recall': 0.56667, 'f1': 0.68}, {'precision': 0.31034, 'recall': 0.31667, 'f1': 0.31347}, {'precision': 0.1, 'recall': 0.08333, 'f1': 0.09091}, {'precision': 0.95455, 'recall': 0.72222, 'f1': 0.82229}, {'precision': 0.71429, 'recall': 0.21053, 'f1': 0.3252}, {'precision': 0.41667, 'recall': 0.2381, 'f1': 0.30303}, {'precision': 1.0, 'recall': 0.38889, 'f1': 0.56}, {'precision': 0.55, 'recall': 0.28125, 'f1': 0.37218}, {'precision': 0.33333, 'recall': 0.13636, 'f1': 0.19355}, {'precision': 0.95, 'recall': 0.625, 'f1': 0.75397}, {'precision': 0.70833, 'recall': 0.47674, 'f1': 0.56991}, {'precision': 0.55556, 'recall': 0.18182, 'f1': 0.27397}, {'precision': 0.95, 'recall': 0.53846, 'f1': 0.68734}, {'precision': 0.78261, 'recall': 0.69565, 'f1': 0.73657}, {'precision': 0.38235, 'recall': 0.25, 'f1': 0.30233}, {'precision': 0.8, 'recall': 0.5625, 'f1': 0.66055}, {'precision': 0.5, 'recall': 0.3125, 'f1': 0.38462}, {'precision': 0.20833, 'recall': 0.075, 'f1': 0.11029}, {'precision': 0.90909, 'recall': 0.52174, 'f1': 0.66298}, {'precision': 0.52941, 'recall': 0.32692, 'f1': 0.40423}, {'precision': 0.54167, 'recall': 0.24074, 'f1': 0.33333}, {'precision': 0.68182, 'recall': 0.5, 'f1': 0.57692}, {'precision': 0.35, 'recall': 0.34, 'f1': 0.34493}, {'precision': 0.1875, 'recall': 0.18421, 'f1': 0.18584}, {'precision': 0.91667, 'recall': 0.66667, 'f1': 0.77193}, {'precision': 0.29688, 'recall': 0.33333, 'f1': 0.31405}, {'precision': 0.39474, 'recall': 0.22917, 'f1': 0.28998}, {'precision': 0.75, 'recall': 0.69444, 'f1': 0.72115}, {'precision': 0.61538, 'recall': 0.21053, 'f1': 0.31373}, {'precision': 0.22727, 'recall': 0.21429, 'f1': 0.22059}, {'precision': 0.85714, 'recall': 0.38889, 'f1': 0.53503}, {'precision': 0.52632, 'recall': 0.28125, 'f1': 0.3666}, {'precision': 0.28125, 'recall': 0.20455, 'f1': 0.23684}, {'precision': 0.79167, 'recall': 0.625, 'f1': 0.69853}, {'precision': 0.8, 'recall': 0.5, 'f1': 0.61538}, {'precision': 0.5625, 'recall': 0.36364, 'f1': 0.44172}, {'precision': 0.9375, 'recall': 0.61538, 'f1': 0.74303}, {'precision': 0.48214, 'recall': 0.67391, 'f1': 0.56212}, {'precision': 0.53846, 'recall': 0.375, 'f1': 0.44211}, {'precision': 0.9375, 'recall': 0.46875, 'f1': 0.625}, {'precision': 0.75, 'recall': 0.4375, 'f1': 0.55263}, {'precision': 0.44444, 'recall': 0.25, 'f1': 0.32}, {'precision': 0.83333, 'recall': 0.5, 'f1': 0.625}, {'precision': 0.30435, 'recall': 0.38462, 'f1': 0.33981}, {'precision': 0.55556, 'recall': 0.18519, 'f1': 0.27778}, {'precision': 0.86364, 'recall': 0.5625, 'f1': 0.68127}, {'precision': 0.60345, 'recall': 0.48, 'f1': 0.53469}, {'precision': 0.34375, 'recall': 0.18421, 'f1': 0.23988}, {'precision': 0.9, 'recall': 0.6, 'f1': 0.72}, {'precision': 0.5, 'recall': 0.23333, 'f1': 0.31818}, {'precision': 0.16667, 'recall': 0.14583, 'f1': 0.15556}, {'precision': 0.90909, 'recall': 0.72222, 'f1': 0.80495}, {'precision': 0.63889, 'recall': 0.26316, 'f1': 0.37277}, {'precision': 0.3, 'recall': 0.19048, 'f1': 0.23301}, {'precision': 0.8, 'recall': 0.41667, 'f1': 0.54795}, {'precision': 0.38889, 'recall': 0.3125, 'f1': 0.34653}, {'precision': 0.23333, 'recall': 0.15909, 'f1': 0.18919}, {'precision': 1.0, 'recall': 0.40625, 'f1': 0.57778}, {'precision': 0.875, 'recall': 0.36047, 'f1': 0.51059}, {'precision': 0.75, 'recall': 0.20455, 'f1': 0.32143}, {'precision': 1.0, 'recall': 0.5, 'f1': 0.66667}, {'precision': 0.91071, 'recall': 0.86957, 'f1': 0.88966}, {'precision': 0.3, 'recall': 0.1, 'f1': 0.15}, {'precision': 0.9375, 'recall': 0.40625, 'f1': 0.56686}, {'precision': 0.9, 'recall': 0.29167, 'f1': 0.44056}, {'precision': 0.25, 'recall': 0.05, 'f1': 0.08333}, {'precision': 0.9, 'recall': 0.5, 'f1': 0.64286}, {'precision': 0.64286, 'recall': 0.36538, 'f1': 0.46594}, {'precision': 0.63636, 'recall': 0.25926, 'f1': 0.36842}, {'precision': 0.83333, 'recall': 0.3125, 'f1': 0.45455}, {'precision': 0.86364, 'recall': 0.26, 'f1': 0.39968}, {'precision': 0.16667, 'recall': 0.07895, 'f1': 0.10714}, {'precision': 1.0, 'recall': 0.53333, 'f1': 0.69565}, {'precision': 0.34483, 'recall': 0.41667, 'f1': 0.37736}, {'precision': 0.375, 'recall': 0.16667, 'f1': 0.23077}, {'precision': 0.72222, 'recall': 0.5, 'f1': 0.59091}, {'precision': 0.42857, 'recall': 0.10526, 'f1': 0.16901}, {'precision': 0.03333, 'recall': 0.02381, 'f1': 0.02778}, {'precision': 0.63636, 'recall': 0.38889, 'f1': 0.48276}, {'precision': 0.43333, 'recall': 0.375, 'f1': 0.40206}, {'precision': 0.13333, 'recall': 0.09091, 'f1': 0.10811}]\n",
            "dict_keys(['0shot_gpt3_labtracker_class', '0shot_gpt3_celo_class', '0shot_gpt3_tss_class', '0shot_gpt3_shas_class', '0shot_gpt3_ots_class', '0shot_gpt3_block_class', '0shot_gpt3_tileo_class', '0shot_gpt3_hbms_class', '0shot_gpt3_labtracker_attribute', '0shot_gpt3_celo_attribute', '0shot_gpt3_tss_attribute', '0shot_gpt3_shas_attribute', '0shot_gpt3_ots_attribute', '0shot_gpt3_block_attribute', '0shot_gpt3_tileo_attribute', '0shot_gpt3_hbms_attribute', '0shot_gpt3_labtracker_relationship', '0shot_gpt3_celo_relationship', '0shot_gpt3_tss_relationship', '0shot_gpt3_shas_relationship', '0shot_gpt3_ots_relationship', '0shot_gpt3_block_relationship', '0shot_gpt3_tileo_relationship', '0shot_gpt3_hbms_relationship', '1shotbtms_gpt3_labtracker_class', '1shotbtms_gpt3_celo_class', '1shotbtms_gpt3_tss_class', '1shotbtms_gpt3_shas_class', '1shotbtms_gpt3_ots_class', '1shotbtms_gpt3_block_class', '1shotbtms_gpt3_tileo_class', '1shotbtms_gpt3_hbms_class', '1shotbtms_gpt3_labtracker_attribute', '1shotbtms_gpt3_celo_attribute', '1shotbtms_gpt3_tss_attribute', '1shotbtms_gpt3_shas_attribute', '1shotbtms_gpt3_ots_attribute', '1shotbtms_gpt3_block_attribute', '1shotbtms_gpt3_tileo_attribute', '1shotbtms_gpt3_hbms_attribute', '1shotbtms_gpt3_labtracker_relationship', '1shotbtms_gpt3_celo_relationship', '1shotbtms_gpt3_tss_relationship', '1shotbtms_gpt3_shas_relationship', '1shotbtms_gpt3_ots_relationship', '1shotbtms_gpt3_block_relationship', '1shotbtms_gpt3_tileo_relationship', '1shotbtms_gpt3_hbms_relationship', '1shoth2s_gpt3_labtracker_class', '1shoth2s_gpt3_celo_class', '1shoth2s_gpt3_tss_class', '1shoth2s_gpt3_shas_class', '1shoth2s_gpt3_ots_class', '1shoth2s_gpt3_block_class', '1shoth2s_gpt3_tileo_class', '1shoth2s_gpt3_hbms_class', '1shoth2s_gpt3_labtracker_attribute', '1shoth2s_gpt3_celo_attribute', '1shoth2s_gpt3_tss_attribute', '1shoth2s_gpt3_shas_attribute', '1shoth2s_gpt3_ots_attribute', '1shoth2s_gpt3_block_attribute', '1shoth2s_gpt3_tileo_attribute', '1shoth2s_gpt3_hbms_attribute', '1shoth2s_gpt3_labtracker_relationship', '1shoth2s_gpt3_celo_relationship', '1shoth2s_gpt3_tss_relationship', '1shoth2s_gpt3_shas_relationship', '1shoth2s_gpt3_ots_relationship', '1shoth2s_gpt3_block_relationship', '1shoth2s_gpt3_tileo_relationship', '1shoth2s_gpt3_hbms_relationship', '2shot_gpt3_labtracker_class', '2shot_gpt3_celo_class', '2shot_gpt3_tss_class', '2shot_gpt3_shas_class', '2shot_gpt3_ots_class', '2shot_gpt3_block_class', '2shot_gpt3_tileo_class', '2shot_gpt3_hbms_class', '2shot_gpt3_labtracker_attribute', '2shot_gpt3_celo_attribute', '2shot_gpt3_tss_attribute', '2shot_gpt3_shas_attribute', '2shot_gpt3_ots_attribute', '2shot_gpt3_block_attribute', '2shot_gpt3_tileo_attribute', '2shot_gpt3_hbms_attribute', '2shot_gpt3_labtracker_relationship', '2shot_gpt3_celo_relationship', '2shot_gpt3_tss_relationship', '2shot_gpt3_shas_relationship', '2shot_gpt3_ots_relationship', '2shot_gpt3_block_relationship', '2shot_gpt3_tileo_relationship', '2shot_gpt3_hbms_relationship', 'cot_gpt3_labtracker_class', 'cot_gpt3_celo_class', 'cot_gpt3_tss_class', 'cot_gpt3_shas_class', 'cot_gpt3_ots_class', 'cot_gpt3_block_class', 'cot_gpt3_tileo_class', 'cot_gpt3_hbms_class', 'cot_gpt3_labtracker_attribute', 'cot_gpt3_celo_attribute', 'cot_gpt3_tss_attribute', 'cot_gpt3_shas_attribute', 'cot_gpt3_ots_attribute', 'cot_gpt3_block_attribute', 'cot_gpt3_tileo_attribute', 'cot_gpt3_hbms_attribute', 'cot_gpt3_labtracker_relationship', 'cot_gpt3_celo_relationship', 'cot_gpt3_tss_relationship', 'cot_gpt3_shas_relationship', 'cot_gpt3_ots_relationship', 'cot_gpt3_block_relationship', 'cot_gpt3_tileo_relationship', 'cot_gpt3_hbms_relationship', '0shot_chat_labtracker_class', '0shot_chat_celo_class', '0shot_chat_tss_class', '0shot_chat_shas_class', '0shot_chat_ots_class', '0shot_chat_block_class', '0shot_chat_tileo_class', '0shot_chat_hbms_class', '0shot_chat_labtracker_attribute', '0shot_chat_celo_attribute', '0shot_chat_tss_attribute', '0shot_chat_shas_attribute', '0shot_chat_ots_attribute', '0shot_chat_block_attribute', '0shot_chat_tileo_attribute', '0shot_chat_hbms_attribute', '0shot_chat_labtracker_relationship', '0shot_chat_celo_relationship', '0shot_chat_tss_relationship', '0shot_chat_shas_relationship', '0shot_chat_ots_relationship', '0shot_chat_block_relationship', '0shot_chat_tileo_relationship', '0shot_chat_hbms_relationship', '1shotbtms_chat_labtracker_class', '1shotbtms_chat_celo_class', '1shotbtms_chat_tss_class', '1shotbtms_chat_shas_class', '1shotbtms_chat_ots_class', '1shotbtms_chat_block_class', '1shotbtms_chat_tileo_class', '1shotbtms_chat_hbms_class', '1shotbtms_chat_labtracker_attribute', '1shotbtms_chat_celo_attribute', '1shotbtms_chat_tss_attribute', '1shotbtms_chat_shas_attribute', '1shotbtms_chat_ots_attribute', '1shotbtms_chat_block_attribute', '1shotbtms_chat_tileo_attribute', '1shotbtms_chat_hbms_attribute', '1shotbtms_chat_labtracker_relationship', '1shotbtms_chat_celo_relationship', '1shotbtms_chat_tss_relationship', '1shotbtms_chat_shas_relationship', '1shotbtms_chat_ots_relationship', '1shotbtms_chat_block_relationship', '1shotbtms_chat_tileo_relationship', '1shotbtms_chat_hbms_relationship', '1shoth2s_chat_labtracker_class', '1shoth2s_chat_celo_class', '1shoth2s_chat_tss_class', '1shoth2s_chat_shas_class', '1shoth2s_chat_ots_class', '1shoth2s_chat_block_class', '1shoth2s_chat_tileo_class', '1shoth2s_chat_hbms_class', '1shoth2s_chat_labtracker_attribute', '1shoth2s_chat_celo_attribute', '1shoth2s_chat_tss_attribute', '1shoth2s_chat_shas_attribute', '1shoth2s_chat_ots_attribute', '1shoth2s_chat_block_attribute', '1shoth2s_chat_tileo_attribute', '1shoth2s_chat_hbms_attribute', '1shoth2s_chat_labtracker_relationship', '1shoth2s_chat_celo_relationship', '1shoth2s_chat_tss_relationship', '1shoth2s_chat_shas_relationship', '1shoth2s_chat_ots_relationship', '1shoth2s_chat_block_relationship', '1shoth2s_chat_tileo_relationship', '1shoth2s_chat_hbms_relationship', '2shot_chat_labtracker_class', '2shot_chat_celo_class', '2shot_chat_tss_class', '2shot_chat_shas_class', '2shot_chat_ots_class', '2shot_chat_block_class', '2shot_chat_tileo_class', '2shot_chat_hbms_class', '2shot_chat_labtracker_attribute', '2shot_chat_celo_attribute', '2shot_chat_tss_attribute', '2shot_chat_shas_attribute', '2shot_chat_ots_attribute', '2shot_chat_block_attribute', '2shot_chat_tileo_attribute', '2shot_chat_hbms_attribute', '2shot_chat_labtracker_relationship', '2shot_chat_celo_relationship', '2shot_chat_tss_relationship', '2shot_chat_shas_relationship', '2shot_chat_ots_relationship', '2shot_chat_block_relationship', '2shot_chat_tileo_relationship', '2shot_chat_hbms_relationship', 'cot_chat_labtracker_class', 'cot_chat_celo_class', 'cot_chat_tss_class', 'cot_chat_shas_class', 'cot_chat_ots_class', 'cot_chat_block_class', 'cot_chat_tileo_class', 'cot_chat_hbms_class', 'cot_chat_labtracker_attribute', 'cot_chat_celo_attribute', 'cot_chat_tss_attribute', 'cot_chat_shas_attribute', 'cot_chat_ots_attribute', 'cot_chat_block_attribute', 'cot_chat_tileo_attribute', 'cot_chat_hbms_attribute', 'cot_chat_labtracker_relationship', 'cot_chat_celo_relationship', 'cot_chat_tss_relationship', 'cot_chat_shas_relationship', 'cot_chat_ots_relationship', 'cot_chat_block_relationship', 'cot_chat_tileo_relationship', 'cot_chat_hbms_relationship'])\n",
            "dict_keys(['0shot_gpt4_labtracker_class', '0shot_gpt4_labtracker_attribute', '0shot_gpt4_labtracker_relationship', '0shot_gpt4_celo_class', '0shot_gpt4_celo_attribute', '0shot_gpt4_celo_relationship', '0shot_gpt4_tss_class', '0shot_gpt4_tss_attribute', '0shot_gpt4_tss_relationship', '0shot_gpt4_shas_class', '0shot_gpt4_shas_attribute', '0shot_gpt4_shas_relationship', '0shot_gpt4_ots_class', '0shot_gpt4_ots_attribute', '0shot_gpt4_ots_relationship', '0shot_gpt4_block_class', '0shot_gpt4_block_attribute', '0shot_gpt4_block_relationship', '0shot_gpt4_tileo_class', '0shot_gpt4_tileo_attribute', '0shot_gpt4_tileo_relationship', '0shot_gpt4_hbms_class', '0shot_gpt4_hbms_attribute', '0shot_gpt4_hbms_relationship', '1shotbtms_gpt4_labtracker_class', '1shotbtms_gpt4_labtracker_attribute', '1shotbtms_gpt4_labtracker_relationship', '1shotbtms_gpt4_celo_class', '1shotbtms_gpt4_celo_attribute', '1shotbtms_gpt4_celo_relationship', '1shotbtms_gpt4_tss_class', '1shotbtms_gpt4_tss_attribute', '1shotbtms_gpt4_tss_relationship', '1shotbtms_gpt4_shas_class', '1shotbtms_gpt4_shas_attribute', '1shotbtms_gpt4_shas_relationship', '1shotbtms_gpt4_ots_class', '1shotbtms_gpt4_ots_attribute', '1shotbtms_gpt4_ots_relationship', '1shotbtms_gpt4_block_class', '1shotbtms_gpt4_block_attribute', '1shotbtms_gpt4_block_relationship', '1shotbtms_gpt4_tileo_class', '1shotbtms_gpt4_tileo_attribute', '1shotbtms_gpt4_tileo_relationship', '1shotbtms_gpt4_hbms_class', '1shotbtms_gpt4_hbms_attribute', '1shotbtms_gpt4_hbms_relationship', '1shoth2s_gpt4_labtracker_class', '1shoth2s_gpt4_labtracker_attribute', '1shoth2s_gpt4_labtracker_relationship', '1shoth2s_gpt4_celo_class', '1shoth2s_gpt4_celo_attribute', '1shoth2s_gpt4_celo_relationship', '1shoth2s_gpt4_tss_class', '1shoth2s_gpt4_tss_attribute', '1shoth2s_gpt4_tss_relationship', '1shoth2s_gpt4_shas_class', '1shoth2s_gpt4_shas_attribute', '1shoth2s_gpt4_shas_relationship', '1shoth2s_gpt4_ots_class', '1shoth2s_gpt4_ots_attribute', '1shoth2s_gpt4_ots_relationship', '1shoth2s_gpt4_block_class', '1shoth2s_gpt4_block_attribute', '1shoth2s_gpt4_block_relationship', '1shoth2s_gpt4_tileo_class', '1shoth2s_gpt4_tileo_attribute', '1shoth2s_gpt4_tileo_relationship', '1shoth2s_gpt4_hbms_class', '1shoth2s_gpt4_hbms_attribute', '1shoth2s_gpt4_hbms_relationship', '2shot_gpt4_labtracker_class', '2shot_gpt4_labtracker_attribute', '2shot_gpt4_labtracker_relationship', '2shot_gpt4_celo_class', '2shot_gpt4_celo_attribute', '2shot_gpt4_celo_relationship', '2shot_gpt4_tss_class', '2shot_gpt4_tss_attribute', '2shot_gpt4_tss_relationship', '2shot_gpt4_shas_class', '2shot_gpt4_shas_attribute', '2shot_gpt4_shas_relationship', '2shot_gpt4_ots_class', '2shot_gpt4_ots_attribute', '2shot_gpt4_ots_relationship', '2shot_gpt4_block_class', '2shot_gpt4_block_attribute', '2shot_gpt4_block_relationship', '2shot_gpt4_tileo_class', '2shot_gpt4_tileo_attribute', '2shot_gpt4_tileo_relationship', '2shot_gpt4_hbms_class', '2shot_gpt4_hbms_attribute', '2shot_gpt4_hbms_relationship', 'cot_gpt4_labtracker_class', 'cot_gpt4_labtracker_attribute', 'cot_gpt4_labtracker_relationship', 'cot_gpt4_celo_class', 'cot_gpt4_celo_attribute', 'cot_gpt4_celo_relationship', 'cot_gpt4_tss_class', 'cot_gpt4_tss_attribute', 'cot_gpt4_tss_relationship', 'cot_gpt4_shas_class', 'cot_gpt4_shas_attribute', 'cot_gpt4_shas_relationship', 'cot_gpt4_ots_class', 'cot_gpt4_ots_attribute', 'cot_gpt4_ots_relationship', 'cot_gpt4_block_class', 'cot_gpt4_block_attribute', 'cot_gpt4_block_relationship', 'cot_gpt4_tileo_class', 'cot_gpt4_tileo_attribute', 'cot_gpt4_tileo_relationship', 'cot_gpt4_hbms_class', 'cot_gpt4_hbms_attribute', 'cot_gpt4_hbms_relationship', '0shot_gpt3_labtracker_class', '0shot_gpt3_labtracker_attribute', '0shot_gpt3_labtracker_relationship', '0shot_gpt3_celo_class', '0shot_gpt3_celo_attribute', '0shot_gpt3_celo_relationship', '0shot_gpt3_tss_class', '0shot_gpt3_tss_attribute', '0shot_gpt3_tss_relationship', '0shot_gpt3_shas_class', '0shot_gpt3_shas_attribute', '0shot_gpt3_shas_relationship', '0shot_gpt3_ots_class', '0shot_gpt3_ots_attribute', '0shot_gpt3_ots_relationship', '0shot_gpt3_block_class', '0shot_gpt3_block_attribute', '0shot_gpt3_block_relationship', '0shot_gpt3_tileo_class', '0shot_gpt3_tileo_attribute', '0shot_gpt3_tileo_relationship', '0shot_gpt3_hbms_class', '0shot_gpt3_hbms_attribute', '0shot_gpt3_hbms_relationship', '1shotbtms_gpt3_labtracker_class', '1shotbtms_gpt3_labtracker_attribute', '1shotbtms_gpt3_labtracker_relationship', '1shotbtms_gpt3_celo_class', '1shotbtms_gpt3_celo_attribute', '1shotbtms_gpt3_celo_relationship', '1shotbtms_gpt3_tss_class', '1shotbtms_gpt3_tss_attribute', '1shotbtms_gpt3_tss_relationship', '1shotbtms_gpt3_shas_class', '1shotbtms_gpt3_shas_attribute', '1shotbtms_gpt3_shas_relationship', '1shotbtms_gpt3_ots_class', '1shotbtms_gpt3_ots_attribute', '1shotbtms_gpt3_ots_relationship', '1shotbtms_gpt3_block_class', '1shotbtms_gpt3_block_attribute', '1shotbtms_gpt3_block_relationship', '1shotbtms_gpt3_tileo_class', '1shotbtms_gpt3_tileo_attribute', '1shotbtms_gpt3_tileo_relationship', '1shotbtms_gpt3_hbms_class', '1shotbtms_gpt3_hbms_attribute', '1shotbtms_gpt3_hbms_relationship', '1shoth2s_gpt3_labtracker_class', '1shoth2s_gpt3_labtracker_attribute', '1shoth2s_gpt3_labtracker_relationship', '1shoth2s_gpt3_celo_class', '1shoth2s_gpt3_celo_attribute', '1shoth2s_gpt3_celo_relationship', '1shoth2s_gpt3_tss_class', '1shoth2s_gpt3_tss_attribute', '1shoth2s_gpt3_tss_relationship', '1shoth2s_gpt3_shas_class', '1shoth2s_gpt3_shas_attribute', '1shoth2s_gpt3_shas_relationship', '1shoth2s_gpt3_ots_class', '1shoth2s_gpt3_ots_attribute', '1shoth2s_gpt3_ots_relationship', '1shoth2s_gpt3_block_class', '1shoth2s_gpt3_block_attribute', '1shoth2s_gpt3_block_relationship', '1shoth2s_gpt3_tileo_class', '1shoth2s_gpt3_tileo_attribute', '1shoth2s_gpt3_tileo_relationship', '1shoth2s_gpt3_hbms_class', '1shoth2s_gpt3_hbms_attribute', '1shoth2s_gpt3_hbms_relationship', '2shot_gpt3_labtracker_class', '2shot_gpt3_labtracker_attribute', '2shot_gpt3_labtracker_relationship', '2shot_gpt3_celo_class', '2shot_gpt3_celo_attribute', '2shot_gpt3_celo_relationship', '2shot_gpt3_tss_class', '2shot_gpt3_tss_attribute', '2shot_gpt3_tss_relationship', '2shot_gpt3_shas_class', '2shot_gpt3_shas_attribute', '2shot_gpt3_shas_relationship', '2shot_gpt3_ots_class', '2shot_gpt3_ots_attribute', '2shot_gpt3_ots_relationship', '2shot_gpt3_block_class', '2shot_gpt3_block_attribute', '2shot_gpt3_block_relationship', '2shot_gpt3_tileo_class', '2shot_gpt3_tileo_attribute', '2shot_gpt3_tileo_relationship', '2shot_gpt3_hbms_class', '2shot_gpt3_hbms_attribute', '2shot_gpt3_hbms_relationship', 'cot_gpt3_labtracker_class', 'cot_gpt3_labtracker_attribute', 'cot_gpt3_labtracker_relationship', 'cot_gpt3_celo_class', 'cot_gpt3_celo_attribute', 'cot_gpt3_celo_relationship', 'cot_gpt3_tss_class', 'cot_gpt3_tss_attribute', 'cot_gpt3_tss_relationship', 'cot_gpt3_shas_class', 'cot_gpt3_shas_attribute', 'cot_gpt3_shas_relationship', 'cot_gpt3_ots_class', 'cot_gpt3_ots_attribute', 'cot_gpt3_ots_relationship', 'cot_gpt3_block_class', 'cot_gpt3_block_attribute', 'cot_gpt3_block_relationship', 'cot_gpt3_tileo_class', 'cot_gpt3_tileo_attribute', 'cot_gpt3_tileo_relationship', 'cot_gpt3_hbms_class', 'cot_gpt3_hbms_attribute', 'cot_gpt3_hbms_relationship', '0shot_chat_labtracker_class', '0shot_chat_labtracker_attribute', '0shot_chat_labtracker_relationship', '0shot_chat_celo_class', '0shot_chat_celo_attribute', '0shot_chat_celo_relationship', '0shot_chat_tss_class', '0shot_chat_tss_attribute', '0shot_chat_tss_relationship', '0shot_chat_shas_class', '0shot_chat_shas_attribute', '0shot_chat_shas_relationship', '0shot_chat_ots_class', '0shot_chat_ots_attribute', '0shot_chat_ots_relationship', '0shot_chat_block_class', '0shot_chat_block_attribute', '0shot_chat_block_relationship', '0shot_chat_tileo_class', '0shot_chat_tileo_attribute', '0shot_chat_tileo_relationship', '0shot_chat_hbms_class', '0shot_chat_hbms_attribute', '0shot_chat_hbms_relationship', '1shotbtms_chat_labtracker_class', '1shotbtms_chat_labtracker_attribute', '1shotbtms_chat_labtracker_relationship', '1shotbtms_chat_celo_class', '1shotbtms_chat_celo_attribute', '1shotbtms_chat_celo_relationship', '1shotbtms_chat_tss_class', '1shotbtms_chat_tss_attribute', '1shotbtms_chat_tss_relationship', '1shotbtms_chat_shas_class', '1shotbtms_chat_shas_attribute', '1shotbtms_chat_shas_relationship', '1shotbtms_chat_ots_class', '1shotbtms_chat_ots_attribute', '1shotbtms_chat_ots_relationship', '1shotbtms_chat_block_class', '1shotbtms_chat_block_attribute', '1shotbtms_chat_block_relationship', '1shotbtms_chat_tileo_class', '1shotbtms_chat_tileo_attribute', '1shotbtms_chat_tileo_relationship', '1shotbtms_chat_hbms_class', '1shotbtms_chat_hbms_attribute', '1shotbtms_chat_hbms_relationship', '1shoth2s_chat_labtracker_class', '1shoth2s_chat_labtracker_attribute', '1shoth2s_chat_labtracker_relationship', '1shoth2s_chat_celo_class', '1shoth2s_chat_celo_attribute', '1shoth2s_chat_celo_relationship', '1shoth2s_chat_tss_class', '1shoth2s_chat_tss_attribute', '1shoth2s_chat_tss_relationship', '1shoth2s_chat_shas_class', '1shoth2s_chat_shas_attribute', '1shoth2s_chat_shas_relationship', '1shoth2s_chat_ots_class', '1shoth2s_chat_ots_attribute', '1shoth2s_chat_ots_relationship', '1shoth2s_chat_block_class', '1shoth2s_chat_block_attribute', '1shoth2s_chat_block_relationship', '1shoth2s_chat_tileo_class', '1shoth2s_chat_tileo_attribute', '1shoth2s_chat_tileo_relationship', '1shoth2s_chat_hbms_class', '1shoth2s_chat_hbms_attribute', '1shoth2s_chat_hbms_relationship', '2shot_chat_labtracker_class', '2shot_chat_labtracker_attribute', '2shot_chat_labtracker_relationship', '2shot_chat_celo_class', '2shot_chat_celo_attribute', '2shot_chat_celo_relationship', '2shot_chat_tss_class', '2shot_chat_tss_attribute', '2shot_chat_tss_relationship', '2shot_chat_shas_class', '2shot_chat_shas_attribute', '2shot_chat_shas_relationship', '2shot_chat_ots_class', '2shot_chat_ots_attribute', '2shot_chat_ots_relationship', '2shot_chat_block_class', '2shot_chat_block_attribute', '2shot_chat_block_relationship', '2shot_chat_tileo_class', '2shot_chat_tileo_attribute', '2shot_chat_tileo_relationship', '2shot_chat_hbms_class', '2shot_chat_hbms_attribute', '2shot_chat_hbms_relationship', 'cot_chat_labtracker_class', 'cot_chat_labtracker_attribute', 'cot_chat_labtracker_relationship', 'cot_chat_celo_class', 'cot_chat_celo_attribute', 'cot_chat_celo_relationship', 'cot_chat_tss_class', 'cot_chat_tss_attribute', 'cot_chat_tss_relationship', 'cot_chat_shas_class', 'cot_chat_shas_attribute', 'cot_chat_shas_relationship', 'cot_chat_ots_class', 'cot_chat_ots_attribute', 'cot_chat_ots_relationship', 'cot_chat_block_class', 'cot_chat_block_attribute', 'cot_chat_block_relationship', 'cot_chat_tileo_class', 'cot_chat_tileo_attribute', 'cot_chat_tileo_relationship', 'cot_chat_hbms_class', 'cot_chat_hbms_attribute', 'cot_chat_hbms_relationship'])\n"
          ]
        }
      ]
    },
    {
      "cell_type": "code",
      "source": [
        "keys = [key for key in list(dict1.keys())]\n",
        "x = np.array([dict1[key]['f1'] for key in keys])\n",
        "y = np.array([dict2[key]['f1'] for key in keys])"
      ],
      "metadata": {
        "id": "oVs-S_UUSpwZ"
      },
      "execution_count": null,
      "outputs": []
    },
    {
      "cell_type": "code",
      "source": [
        "plt.hist(x)"
      ],
      "metadata": {
        "colab": {
          "base_uri": "https://localhost:8080/",
          "height": 499
        },
        "id": "mSkIpqQ19TlO",
        "outputId": "8a8e8508-f22e-4877-d936-1afb97adc592"
      },
      "execution_count": null,
      "outputs": [
        {
          "output_type": "execute_result",
          "data": {
            "text/plain": [
              "(array([21., 19., 26., 30., 30., 35., 26., 27., 21.,  5.]),\n",
              " array([0.     , 0.08648, 0.17296, 0.25944, 0.34592, 0.4324 , 0.51888,\n",
              "        0.60536, 0.69184, 0.77832, 0.8648 ]),\n",
              " <BarContainer object of 10 artists>)"
            ]
          },
          "metadata": {},
          "execution_count": 12
        },
        {
          "output_type": "display_data",
          "data": {
            "text/plain": [
              "<Figure size 640x480 with 1 Axes>"
            ],
            "image/png": "[encoded data removed]"
          },
          "metadata": {}
        }
      ]
    },
    {
      "cell_type": "code",
      "source": [
        "\n",
        "stats.ttest_1samp(abs(x - y), 0.04)"
      ],
      "metadata": {
        "colab": {
          "base_uri": "https://localhost:8080/"
        },
        "id": "RKxU4eF7XoX1",
        "outputId": "45f5266f-bc7b-442d-98e2-41ef24c16176"
      },
      "execution_count": null,
      "outputs": [
        {
          "output_type": "execute_result",
          "data": {
            "text/plain": [
              "TtestResult(statistic=-0.04133979988712646, pvalue=0.9670595182202808, df=239)"
            ]
          },
          "metadata": {},
          "execution_count": 23
        }
      ]
    },
    {
      "cell_type": "code",
      "source": [
        "result = stats.wilcoxon(abs(x - y), alternative='greater', method='approx')"
      ],
      "metadata": {
        "id": "5XCyG5bX21tO"
      },
      "execution_count": null,
      "outputs": []
    },
    {
      "cell_type": "code",
      "source": [
        "result.statistic / len(x)"
      ],
      "metadata": {
        "colab": {
          "base_uri": "https://localhost:8080/"
        },
        "id": "z0CSpBsB_R2R",
        "outputId": "a6078928-5e45-46c3-8a4a-e3743f453aed"
      },
      "execution_count": null,
      "outputs": [
        {
          "output_type": "execute_result",
          "data": {
            "text/plain": [
              "110.6875"
            ]
          },
          "metadata": {},
          "execution_count": 15
        }
      ]
    },
    {
      "cell_type": "code",
      "source": [
        "len(x)"
      ],
      "metadata": {
        "colab": {
          "base_uri": "https://localhost:8080/"
        },
        "id": "O3bCzDH8_zUc",
        "outputId": "4d7f6629-b54b-4f43-83bf-bcde2895b788"
      },
      "execution_count": null,
      "outputs": [
        {
          "output_type": "execute_result",
          "data": {
            "text/plain": [
              "240"
            ]
          },
          "metadata": {},
          "execution_count": 16
        }
      ]
    },
    {
      "cell_type": "code",
      "source": [
        "result.zstatistic / np.sqrt(len(x))"
      ],
      "metadata": {
        "colab": {
          "base_uri": "https://localhost:8080/"
        },
        "id": "bFjOFH3W_qKO",
        "outputId": "be73dcf3-bcaf-4329-e65a-76e249a48300"
      },
      "execution_count": null,
      "outputs": [
        {
          "output_type": "execute_result",
          "data": {
            "text/plain": [
              "0.8487162924424213"
            ]
          },
          "metadata": {},
          "execution_count": 17
        }
      ]
    },
    {
      "cell_type": "code",
      "source": [
        "from numpy import std, mean, sqrt\n",
        "\n",
        "def cohen_d(x,y):\n",
        "    nx = len(x)\n",
        "    ny = len(y)\n",
        "    dof = nx + ny - 2\n",
        "    return (mean(x) - mean(y)) / sqrt(((nx-1)*std(x, ddof=1) ** 2 + (ny-1)*std(y, ddof=1) ** 2) / dof)\n"
      ],
      "metadata": {
        "id": "eHZjxwnyXqNl"
      },
      "execution_count": null,
      "outputs": []
    },
    {
      "cell_type": "code",
      "source": [
        "cohen_d(y, x)"
      ],
      "metadata": {
        "colab": {
          "base_uri": "https://localhost:8080/"
        },
        "id": "W-CIB6AQcMH0",
        "outputId": "90f553e7-9bfb-4907-91b2-c2103c46b412"
      },
      "execution_count": null,
      "outputs": [
        {
          "output_type": "execute_result",
          "data": {
            "text/plain": [
              "0.10092773908015928"
            ]
          },
          "metadata": {},
          "execution_count": 25
        }
      ]
    },
    {
      "cell_type": "code",
      "source": [
        "y"
      ],
      "metadata": {
        "colab": {
          "base_uri": "https://localhost:8080/"
        },
        "id": "m-taa7EHcOX6",
        "outputId": "f762b810-5f2c-4e98-a1c2-d73952b1053d"
      },
      "execution_count": null,
      "outputs": [
        {
          "output_type": "execute_result",
          "data": {
            "text/plain": [
              "[0.59477,\n",
              " 0.61395,\n",
              " 0.61381,\n",
              " 0.56782,\n",
              " 0.4,\n",
              " 0.54545,\n",
              " 0.53061,\n",
              " 0.47351,\n",
              " 0.48165,\n",
              " 0.6564,\n",
              " 0.71795,\n",
              " 0.46573,\n",
              " 0.35745,\n",
              " 0.2766,\n",
              " 0.22291,\n",
              " 0.39347,\n",
              " 0.36,\n",
              " 0.22901,\n",
              " 0.05405,\n",
              " 0.18182,\n",
              " 0.0,\n",
              " 0.14815,\n",
              " 0.14815,\n",
              " 0.06897,\n",
              " 0.6087,\n",
              " 0.71168,\n",
              " 0.53226,\n",
              " 0.62687,\n",
              " 0.66667,\n",
              " 0.66272,\n",
              " 0.56075,\n",
              " 0.53061,\n",
              " 0.47191,\n",
              " 0.6389,\n",
              " 0.55556,\n",
              " 0.40678,\n",
              " 0.41369,\n",
              " 0.44681,\n",
              " 0.18792,\n",
              " 0.18605,\n",
              " 0.53388,\n",
              " 0.53217,\n",
              " 0.35813,\n",
              " 0.29412,\n",
              " 0.35731,\n",
              " 0.17857,\n",
              " 0.3,\n",
              " 0.18519,\n",
              " 0.69388,\n",
              " 0.63158,\n",
              " 0.66812,\n",
              " 0.59545,\n",
              " 0.47619,\n",
              " 0.63636,\n",
              " 0.64706,\n",
              " 0.52601,\n",
              " 0.43567,\n",
              " 0.62745,\n",
              " 0.60847,\n",
              " 0.4214,\n",
              " 0.31373,\n",
              " 0.31707,\n",
              " 0.09626,\n",
              " 0.31291,\n",
              " 0.50609,\n",
              " 0.34351,\n",
              " 0.25758,\n",
              " 0.33886,\n",
              " 0.09091,\n",
              " 0.2963,\n",
              " 0.21429,\n",
              " 0.14433,\n",
              " 0.6087,\n",
              " 0.61395,\n",
              " 0.72,\n",
              " 0.5434,\n",
              " 0.68,\n",
              " 0.72289,\n",
              " 0.66667,\n",
              " 0.60116,\n",
              " 0.5735,\n",
              " 0.66857,\n",
              " 0.72831,\n",
              " 0.32,\n",
              " 0.54545,\n",
              " 0.35112,\n",
              " 0.3252,\n",
              " 0.36364,\n",
              " 0.56426,\n",
              " 0.33488,\n",
              " 0.33079,\n",
              " 0.1875,\n",
              " 0.2342,\n",
              " 0.35294,\n",
              " 0.21622,\n",
              " 0.22909,\n",
              " 0.66667,\n",
              " 0.6,\n",
              " 0.52174,\n",
              " 0.6705,\n",
              " 0.6087,\n",
              " 0.66667,\n",
              " 0.64151,\n",
              " 0.46847,\n",
              " 0.62607,\n",
              " 0.55668,\n",
              " 0.3942,\n",
              " 0.36638,\n",
              " 0.31933,\n",
              " 0.35319,\n",
              " 0.17391,\n",
              " 0.26316,\n",
              " 0.17964,\n",
              " 0.0,\n",
              " 0.20548,\n",
              " 0.34286,\n",
              " 0.28636,\n",
              " 0.11538,\n",
              " 0.2069,\n",
              " 0.05556,\n",
              " 0.623,\n",
              " 0.68165,\n",
              " 0.71548,\n",
              " 0.46667,\n",
              " 0.49071,\n",
              " 0.48649,\n",
              " 0.37037,\n",
              " 0.5122,\n",
              " 0.54357,\n",
              " 0.85955,\n",
              " 0.41966,\n",
              " 0.3352,\n",
              " 0.43182,\n",
              " 0.31915,\n",
              " 0.11321,\n",
              " 0.42188,\n",
              " 0.10345,\n",
              " 0.18018,\n",
              " 0.2069,\n",
              " 0.2,\n",
              " 0.0,\n",
              " 0.15267,\n",
              " 0.15152,\n",
              " 0.13333,\n",
              " 0.75556,\n",
              " 0.71168,\n",
              " 0.70507,\n",
              " 0.53968,\n",
              " 0.42857,\n",
              " 0.68,\n",
              " 0.82229,\n",
              " 0.53061,\n",
              " 0.54023,\n",
              " 0.8284,\n",
              " 0.44056,\n",
              " 0.27094,\n",
              " 0.29412,\n",
              " 0.31347,\n",
              " 0.3252,\n",
              " 0.36628,\n",
              " 0.44269,\n",
              " 0.40367,\n",
              " 0.30033,\n",
              " 0.13514,\n",
              " 0.02941,\n",
              " 0.10256,\n",
              " 0.30303,\n",
              " 0.19355,\n",
              " 0.75397,\n",
              " 0.68734,\n",
              " 0.66055,\n",
              " 0.62678,\n",
              " 0.57692,\n",
              " 0.77193,\n",
              " 0.72115,\n",
              " 0.53503,\n",
              " 0.56991,\n",
              " 0.73657,\n",
              " 0.41667,\n",
              " 0.38582,\n",
              " 0.34493,\n",
              " 0.31405,\n",
              " 0.31373,\n",
              " 0.3666,\n",
              " 0.27397,\n",
              " 0.31175,\n",
              " 0.09091,\n",
              " 0.33333,\n",
              " 0.18584,\n",
              " 0.33835,\n",
              " 0.22059,\n",
              " 0.23684,\n",
              " 0.69853,\n",
              " 0.74303,\n",
              " 0.625,\n",
              " 0.625,\n",
              " 0.68127,\n",
              " 0.72,\n",
              " 0.80495,\n",
              " 0.54795,\n",
              " 0.61538,\n",
              " 0.56212,\n",
              " 0.55263,\n",
              " 0.33981,\n",
              " 0.52071,\n",
              " 0.31818,\n",
              " 0.37277,\n",
              " 0.34653,\n",
              " 0.44172,\n",
              " 0.45553,\n",
              " 0.31008,\n",
              " 0.27273,\n",
              " 0.23988,\n",
              " 0.24627,\n",
              " 0.23301,\n",
              " 0.18919,\n",
              " 0.57778,\n",
              " 0.66667,\n",
              " 0.56686,\n",
              " 0.60577,\n",
              " 0.45455,\n",
              " 0.69565,\n",
              " 0.59091,\n",
              " 0.48276,\n",
              " 0.51059,\n",
              " 0.88966,\n",
              " 0.44056,\n",
              " 0.44575,\n",
              " 0.39968,\n",
              " 0.44728,\n",
              " 0.16901,\n",
              " 0.40206,\n",
              " 0.32143,\n",
              " 0.15584,\n",
              " 0.08,\n",
              " 0.37143,\n",
              " 0.10714,\n",
              " 0.2,\n",
              " 0.02778,\n",
              " 0.10811]"
            ]
          },
          "metadata": {},
          "execution_count": 94
        }
      ]
    },
    {
      "cell_type": "code",
      "source": [],
      "metadata": {
        "id": "4MyS6d4fcOpF"
      },
      "execution_count": null,
      "outputs": []
    }
  ]
}